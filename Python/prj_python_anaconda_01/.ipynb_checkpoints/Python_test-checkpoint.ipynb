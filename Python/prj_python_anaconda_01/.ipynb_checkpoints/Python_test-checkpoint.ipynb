{
 "cells": [
  {
   "cell_type": "code",
   "execution_count": 14,
   "id": "77a688f6",
   "metadata": {},
   "outputs": [
    {
     "name": "stdout",
     "output_type": "stream",
     "text": [
      "직원번호 => 1\n",
      "직원이름 => 한승태\n",
      "직원주민 => 920429-2018333\n",
      "직원  키 => 177.5\n",
      "직원무게 => 69.5\n",
      "직원결혼 => False\n"
     ]
    }
   ],
   "source": [
    "#-----------------------------------------------------------------\n",
    "# e_no 라는 변수 선언하고 직원번호 1 저장하기.\n",
    "# e_name 라는 변수 선언하고 직원이름 한승태 저장하기\n",
    "# jumin_num 라는 변수 선언하고 주민번호 920429-2018333 저장하기\n",
    "# tall 라는 변수 선언하고 키 177.5 저장하기\n",
    "# weight 라는 변수 선언하고 몸무게 65.9 저장하기\n",
    "#-----------------------------------------------------------------\n",
    "e_no = 1;\n",
    "e_name = \"한승태\";\n",
    "jumin_num = \"920429-2018333\";\n",
    "tall = 177.5;\n",
    "weight = 69.5;\n",
    "is_marry = False;\n",
    "print(\"직원번호 => \" + str(e_no));\n",
    "print(\"직원이름 => \" + str(e_name));\n",
    "print(\"직원주민 => \" + str(jumin_num));\n",
    "print(\"직원  키 => \" + str(tall));\n",
    "print(\"직원무게 => \" + str(weight));\n",
    "print(\"직원결혼 => \" + str(is_marry));\n",
    "#-----------------------------------------------------------------\n",
    "#<문제> e_name = \"한승태\" => e_name = '한승태' \n",
    "#-----------------------------------------------------------------\n",
    "#가능하다. 문자 데이터는 \" 또는 '로 감싼다.\n",
    "#-----------------------------------------------------------------\n",
    "#<문제> print( \"직원번호 =>\"+ str(e_no)); 를 print( \"직원번호 =>\"+ e_no);\n",
    "#-----------------------------------------------------------------\n",
    "# 에러가 발생한다.\n",
    "# 문자 + 숫자에서 +는 연결연산자이다. 단 좌우가 모두 문자이어야한다.\n",
    "# 연결 연산자 사용 시 자바 처럼, 자스 처럼 숫자가 문자로 자동 형변환 되지 않는다.\n",
    "# 그러므로 숫자를 문자로 변환하기 위해 str() 내장 함수를 사용한다."
   ]
  },
  {
   "cell_type": "code",
   "execution_count": null,
   "id": "4f407677",
   "metadata": {},
   "outputs": [],
   "source": []
  },
  {
   "cell_type": "code",
   "execution_count": null,
   "id": "0822ec30",
   "metadata": {},
   "outputs": [],
   "source": []
  },
  {
   "cell_type": "code",
   "execution_count": null,
   "id": "d2af93fa",
   "metadata": {},
   "outputs": [],
   "source": []
  }
 ],
 "metadata": {
  "kernelspec": {
   "display_name": "Python 3",
   "language": "python",
   "name": "python3"
  },
  "language_info": {
   "codemirror_mode": {
    "name": "ipython",
    "version": 3
   },
   "file_extension": ".py",
   "mimetype": "text/x-python",
   "name": "python",
   "nbconvert_exporter": "python",
   "pygments_lexer": "ipython3",
   "version": "3.8.8"
  }
 },
 "nbformat": 4,
 "nbformat_minor": 5
}
