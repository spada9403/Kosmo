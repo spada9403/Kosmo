{
 "cells": [
  {
   "cell_type": "markdown",
   "id": "31a45db2",
   "metadata": {},
   "source": [
    "num1_list = [1,2,3,4,5,6];\n",
    "num2_list = [5,6,7,8,9,10];\n",
    "num1_set = set(num1_list);\n",
    "num2_set = set(num2_list);\n",
    "num3_set = num1_set.intersection(num2_set);\n",
    "num4_set = num_set & num2_set;\n",
    "print(num3_set);\n",
    "prtin(num4_set);"
   ]
  },
  {
   "cell_type": "code",
   "execution_count": 1,
   "id": "059cdf12",
   "metadata": {},
   "outputs": [
    {
     "ename": "NameError",
     "evalue": "name 'num_set' is not defined",
     "output_type": "error",
     "traceback": [
      "\u001b[1;31m---------------------------------------------------------------------------\u001b[0m",
      "\u001b[1;31mNameError\u001b[0m                                 Traceback (most recent call last)",
      "\u001b[1;32m<ipython-input-1-2ab9591eda92>\u001b[0m in \u001b[0;36m<module>\u001b[1;34m\u001b[0m\n\u001b[1;32m----> 1\u001b[1;33m \u001b[0mnum1_list\u001b[0m \u001b[1;33m=\u001b[0m \u001b[1;33m[\u001b[0m\u001b[1;36m1\u001b[0m\u001b[1;33m,\u001b[0m\u001b[1;36m2\u001b[0m\u001b[1;33m,\u001b[0m\u001b[1;36m3\u001b[0m\u001b[1;33m,\u001b[0m\u001b[1;36m4\u001b[0m\u001b[1;33m,\u001b[0m\u001b[1;36m5\u001b[0m\u001b[1;33m,\u001b[0m\u001b[1;36m6\u001b[0m\u001b[1;33m]\u001b[0m\u001b[1;33m;\u001b[0m \u001b[0mnum2_list\u001b[0m \u001b[1;33m=\u001b[0m \u001b[1;33m[\u001b[0m\u001b[1;36m5\u001b[0m\u001b[1;33m,\u001b[0m\u001b[1;36m6\u001b[0m\u001b[1;33m,\u001b[0m\u001b[1;36m7\u001b[0m\u001b[1;33m,\u001b[0m\u001b[1;36m8\u001b[0m\u001b[1;33m,\u001b[0m\u001b[1;36m9\u001b[0m\u001b[1;33m,\u001b[0m\u001b[1;36m10\u001b[0m\u001b[1;33m]\u001b[0m\u001b[1;33m;\u001b[0m \u001b[0mnum1_set\u001b[0m \u001b[1;33m=\u001b[0m \u001b[0mset\u001b[0m\u001b[1;33m(\u001b[0m\u001b[0mnum1_list\u001b[0m\u001b[1;33m)\u001b[0m\u001b[1;33m;\u001b[0m \u001b[0mnum2_set\u001b[0m \u001b[1;33m=\u001b[0m \u001b[0mset\u001b[0m\u001b[1;33m(\u001b[0m\u001b[0mnum2_list\u001b[0m\u001b[1;33m)\u001b[0m\u001b[1;33m;\u001b[0m \u001b[0mnum3_set\u001b[0m \u001b[1;33m=\u001b[0m \u001b[0mnum1_set\u001b[0m\u001b[1;33m.\u001b[0m\u001b[0mintersection\u001b[0m\u001b[1;33m(\u001b[0m\u001b[0mnum2_set\u001b[0m\u001b[1;33m)\u001b[0m\u001b[1;33m;\u001b[0m \u001b[0mnum4_set\u001b[0m \u001b[1;33m=\u001b[0m \u001b[0mnum_set\u001b[0m \u001b[1;33m&\u001b[0m \u001b[0mnum2_set\u001b[0m\u001b[1;33m;\u001b[0m \u001b[0mprint\u001b[0m\u001b[1;33m(\u001b[0m\u001b[0mnum3_set\u001b[0m\u001b[1;33m)\u001b[0m\u001b[1;33m;\u001b[0m \u001b[0mprtin\u001b[0m\u001b[1;33m(\u001b[0m\u001b[0mnum4_set\u001b[0m\u001b[1;33m)\u001b[0m\u001b[1;33m;\u001b[0m\u001b[1;33m\u001b[0m\u001b[1;33m\u001b[0m\u001b[0m\n\u001b[0m",
      "\u001b[1;31mNameError\u001b[0m: name 'num_set' is not defined"
     ]
    }
   ],
   "source": [
    "num1_list = [1,2,3,4,5,6]; num2_list = [5,6,7,8,9,10]; num1_set = set(num1_list); num2_set = set(num2_list); num3_set = num1_set.intersection(num2_set); num4_set = num_set & num2_set; print(num3_set); prtin(num4_set);"
   ]
  },
  {
   "cell_type": "code",
   "execution_count": 8,
   "id": "c7cfbd69",
   "metadata": {},
   "outputs": [
    {
     "name": "stdout",
     "output_type": "stream",
     "text": [
      "{1, 2, 3, 4, 5, 6}\n",
      "{5, 6, 7, 8, 9, 10}\n",
      "{5, 6}\n",
      "{5, 6}\n",
      "{1, 2, 3, 4, 5, 6, 7, 8, 9, 10}\n",
      "{1, 2, 3, 4, 5, 6, 7, 8, 9, 10}\n",
      "{1, 2, 3, 4}\n",
      "{1, 2, 3, 4}\n"
     ]
    }
   ],
   "source": [
    "num1_list = [1,2,3,4,5,6];\n",
    "num2_list = [5,6,7,8,9,10];\n",
    "num1_set = set(num1_list);\n",
    "num2_set = set(num2_list);\n",
    "num3_set = num1_set.intersection(num2_set);\n",
    "num4_set = num1_set & num2_set;\n",
    "num5_set = num1_set.union(num2_set);\n",
    "num6_set = num1_set | num2_set;\n",
    "num7_set = num1_set.difference(num2_set);\n",
    "num8_set = num1_set - num2_set;\n",
    "print(num1_set);\n",
    "print(num2_set);\n",
    "print(num3_set);\n",
    "print(num4_set);\n",
    "print(num5_set);\n",
    "print(num6_set);\n",
    "print(num7_set);\n",
    "print(num8_set);"
   ]
  },
  {
   "cell_type": "code",
   "execution_count": null,
   "id": "a3e4479b",
   "metadata": {},
   "outputs": [],
   "source": []
  }
 ],
 "metadata": {
  "kernelspec": {
   "display_name": "Python 3",
   "language": "python",
   "name": "python3"
  },
  "language_info": {
   "codemirror_mode": {
    "name": "ipython",
    "version": 3
   },
   "file_extension": ".py",
   "mimetype": "text/x-python",
   "name": "python",
   "nbconvert_exporter": "python",
   "pygments_lexer": "ipython3",
   "version": "3.8.8"
  }
 },
 "nbformat": 4,
 "nbformat_minor": 5
}
